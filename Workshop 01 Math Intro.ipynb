{
 "cells": [
  {
   "cell_type": "markdown",
   "metadata": {},
   "source": [
    "# Warmup: common elements\n",
    "\n",
    "Write a one line function using set operations to check if two given sets have no elements in common. \n",
    "\n",
    "\n",
    "```\n",
    "common_elements({1, 2, 3}, {2}) -> True\n",
    "\n",
    "common_elements({1, 2, 3}, {'a', 'b', 'c'}) -> False\n",
    "\n",
    "common_elements({1, 2, 3}, {'a', 1, 'hi!'}) -> True\n",
    "```"
   ]
  },
  {
   "cell_type": "code",
   "execution_count": 1,
   "metadata": {},
   "outputs": [
    {
     "name": "stdout",
     "output_type": "stream",
     "text": [
      "True\n",
      "False\n",
      "True\n"
     ]
    }
   ],
   "source": [
    "common_elements = lambda s1, s2: len(s1.intersection(s2)) > 0\n",
    "\n",
    "print(common_elements({1, 2, 3}, {2}))\n",
    "print(common_elements({1, 2, 3}, {'a', 'b', 'c'}))\n",
    "print(common_elements({1, 2, 3}, {'a', 1, 'hi!'}))"
   ]
  },
  {
   "cell_type": "markdown",
   "metadata": {},
   "source": [
    "# Common Elements 2\n",
    "\n",
    "Write a function that, given a list of containers of any type, returns a **list** with the common elements\n",
    "\n",
    "$$ result =  a_1 \\cap a_2 \\cap ... \\cap a_n $$\n",
    "\n",
    "```\n",
    "common_elements([(1,2), [1,2,3], {1,2,4,5}]) -> [1, 2]\n",
    "common_elements([(1,2), [3], {4,5}]) -> []\n",
    "common_elements([(1,2), [2, 3], [2, 3], [2,3]]) -> [2]\n",
    "```"
   ]
  },
  {
   "cell_type": "code",
   "execution_count": 2,
   "metadata": {},
   "outputs": [
    {
     "name": "stdout",
     "output_type": "stream",
     "text": [
      "[1, 2]\n",
      "[]\n",
      "[2]\n"
     ]
    }
   ],
   "source": [
    "from functools import reduce\n",
    "\n",
    "def set_intersection(itr1,itr2):\n",
    "    '''Convert Iterable to sets and then return 1 set with the common elements'''\n",
    "    s1 = set(itr1)\n",
    "    s2 = set(itr2)\n",
    "    return s1.intersection(s2)\n",
    "    \n",
    "def common_elements(iterable):\n",
    "    intersection = reduce(lambda set1, set2: set_intersection(set1,set2) ,iterable)\n",
    "    setToList = list(intersection)\n",
    "    return setToList\n",
    "\n",
    "print(common_elements([(1,2), [1,2,3], {1,2,4,5}]))\n",
    "print(common_elements([(1,2), [3], {4,5}]))\n",
    "print(common_elements([(1,2), [2, 3], [2, 3], [2,3]]))"
   ]
  },
  {
   "cell_type": "markdown",
   "metadata": {},
   "source": [
    "# Pendulum Formula\n",
    "\n",
    "Consider a pendulum of length $L$. The time period $T$ of this pendulum is the amount of time it takes for the pendulum to complete one full swing. The amount of time $T(L)$ given the length of a pendulum is given by the formula:\n",
    "\n",
    "$$T(L) = 2 \\pi \\sqrt{\\dfrac{L}{g}} $$\n",
    "\n",
    "Where $\\pi$ is the math constant *pi* and $g$ is the gravity on earth ($9.8 m/s$).\n",
    "\n",
    "Write a function $T(L)$ that returns the time for a given length in meters.\n",
    "\n",
    "```\n",
    "pendulum(5) -> 4.487989505128276\n",
    "pendulum(50) -> 14.192268951137288\n",
    "```\n",
    "\n",
    "\n",
    "**hint:** use `import numpy` or `import math` to get the square root function and the value of pi\n",
    "\n",
    "**hint:** since since $g$ is in $m / sec$ and $l$ is in $m$ and you return in $sec$, you can make the function very simple"
   ]
  },
  {
   "cell_type": "code",
   "execution_count": 3,
   "metadata": {},
   "outputs": [
    {
     "name": "stdout",
     "output_type": "stream",
     "text": [
      "4.487989505128276\n",
      "14.192268951137288\n"
     ]
    }
   ],
   "source": [
    "import math\n",
    "\n",
    "def pendulam(length):\n",
    "    return (2*math.pi)*math.sqrt(length/9.8)\n",
    "\n",
    "print(pendulam(5))\n",
    "print(pendulam(50))"
   ]
  },
  {
   "cell_type": "markdown",
   "metadata": {},
   "source": [
    "# Set Generation\n",
    "\n",
    "Use a one line python list comprehension to generate a list with the powers of 2 set:\n",
    "\n",
    "$$S = \\{x \\in 1, 2, 4, 8, 16, 32, 64, ... | x < 562949953421312 \\}$$\n",
    "\n"
   ]
  },
  {
   "cell_type": "markdown",
   "metadata": {},
   "source": [
    "### Solution\n",
    "We need to find n such that\n",
    "\n",
    "$$S = \\{x \\in 1, 2, 4, 8, 16, 32, 64, ... | x < 2^n \\}$$\n",
    "\n",
    "Where,\n",
    "$$ 2^n = 562949953421312 $$\n",
    "\n",
    "**Therefore,** <br/>\n",
    "<div style=\"text-align:center;font-size:16px\">\n",
    "n * log<sub>2</sub>2 = log<sub>2</sub>562949953421312 <br/><br/>\n",
    "n = log<sub>2</sub>562949953421312 \n",
    "</div>"
   ]
  },
  {
   "cell_type": "code",
   "execution_count": 4,
   "metadata": {},
   "outputs": [
    {
     "name": "stdout",
     "output_type": "stream",
     "text": [
      "[1, 2, 4, 8, 16, 32, 64, 128, 256, 512, 1024, 2048, 4096, 8192, 16384, 32768, 65536, 131072, 262144, 524288, 1048576, 2097152, 4194304, 8388608, 16777216, 33554432, 67108864, 134217728, 268435456, 536870912, 1073741824, 2147483648, 4294967296, 8589934592, 17179869184, 34359738368, 68719476736, 137438953472, 274877906944, 549755813888, 1099511627776, 2199023255552, 4398046511104, 8796093022208, 17592186044416, 35184372088832, 70368744177664, 140737488355328, 281474976710656]\n"
     ]
    }
   ],
   "source": [
    "powers_of_2 = [2**n for n in range(0,int(math.log(562949953421312,2)))]\n",
    "\n",
    "print(powers_of_2)"
   ]
  },
  {
   "cell_type": "markdown",
   "metadata": {},
   "source": [
    "# Checking for Prime Numbers\n",
    "\n",
    "A [prime number](https://en.wikipedia.org/wiki/Prime_number) is a number that can only be divided by 1 and by itself. Write a function that takes in a positive integer and returns `True` if it's prime and `False` otherwise.\n",
    "\n",
    "```\n",
    "check_prime(5) -> True\n",
    "check_prime(13) -> True\n",
    "check_prime(9) -> False\n",
    "check_prime(15) -> False\n",
    "```"
   ]
  },
  {
   "cell_type": "code",
   "execution_count": 5,
   "metadata": {
    "colab": {},
    "colab_type": "code",
    "id": "l4IdYSgyuwXb"
   },
   "outputs": [
    {
     "name": "stdout",
     "output_type": "stream",
     "text": [
      "True\n",
      "True\n",
      "False\n",
      "False\n",
      "False\n",
      "False\n",
      "False\n"
     ]
    }
   ],
   "source": [
    "def check_prime(num):\n",
    "    '''All numbers are divisible by 1 and itself\n",
    "       We just have to make sure it's not divisible by anything else\n",
    "       0, 1 and Negative numbers cant be Prime Numbers by definition'''\n",
    "    if num > 1 :\n",
    "        for i in range(2,num):\n",
    "            if num%i == 0:\n",
    "                return False\n",
    "        return True\n",
    "\n",
    "    else:\n",
    "        return False\n",
    "    \n",
    "print(check_prime(5) )\n",
    "print(check_prime(13))\n",
    "print(check_prime(9) )\n",
    "print(check_prime(15))\n",
    "print(check_prime(0))\n",
    "print(check_prime(-1))\n",
    "print(check_prime(1))"
   ]
  },
  {
   "cell_type": "code",
   "execution_count": null,
   "metadata": {},
   "outputs": [],
   "source": []
  }
 ],
 "metadata": {
  "colab": {
   "authorship_tag": "ABX9TyPmRY5kGt5p34lIAs/rfhTY",
   "collapsed_sections": [],
   "name": "Workshop Math Intro.ipynb",
   "provenance": []
  },
  "kernelspec": {
   "display_name": "Python 3",
   "language": "python",
   "name": "python3"
  },
  "language_info": {
   "codemirror_mode": {
    "name": "ipython",
    "version": 3
   },
   "file_extension": ".py",
   "mimetype": "text/x-python",
   "name": "python",
   "nbconvert_exporter": "python",
   "pygments_lexer": "ipython3",
   "version": "3.8.3"
  }
 },
 "nbformat": 4,
 "nbformat_minor": 1
}

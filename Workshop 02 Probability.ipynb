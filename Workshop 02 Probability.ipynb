{
 "cells": [
  {
   "cell_type": "markdown",
   "metadata": {},
   "source": [
    "# Warmup: Count to 50\n",
    "\n",
    "Use a RNG to generate rolls of a 12-sided die. \n",
    "Write a function that counts the number of rolls taken until the total of the rolls totals 50 or more.\n",
    "\n",
    "```\n",
    "rollto50() -> 5\n",
    "rollto50() -> 6\n",
    "```"
   ]
  },
  {
   "cell_type": "code",
   "execution_count": 1,
   "metadata": {},
   "outputs": [
    {
     "data": {
      "text/plain": [
       "8"
      ]
     },
     "execution_count": 1,
     "metadata": {},
     "output_type": "execute_result"
    }
   ],
   "source": [
    "import random\n",
    "\n",
    "def rollTo50():\n",
    "    total = 0\n",
    "    rolls = 0\n",
    "    while total < 50:\n",
    "        total += random.randint(1,12)\n",
    "        rolls += 1\n",
    "    return rolls\n",
    "\n",
    "rollTo50()"
   ]
  },
  {
   "cell_type": "markdown",
   "metadata": {},
   "source": [
    "# Problem 1: Monte Carlo Sampling\n",
    "\n",
    "Data Scientists are often lazy. Instead of calculating the exact probability of complex events, we simulate samples with a RNG and average the results. This is called **Monte Carlo Sampling** after the casino in Monaco (yes, really).\n",
    "\n",
    "Write a function `monte_carlo_dice(n)` that given a 6-sided die, rolls it $n$ times and averages the result.\n",
    "\n",
    "The result should get closer to the true expected value (3.5) as $n$ increases:\n",
    "\n",
    "```\n",
    "n: 100 Trial average 3.39 \n",
    "n: 1000 Trial average 3.576 \n",
    "n: 10000 Trial average 3.5054 \n",
    "n: 100000 Trial average 3.50201 \n",
    "n: 500000 Trial average 3.495568\n",
    "```"
   ]
  },
  {
   "cell_type": "code",
   "execution_count": 2,
   "metadata": {},
   "outputs": [
    {
     "name": "stdout",
     "output_type": "stream",
     "text": [
      "3.29\n",
      "3.473\n",
      "3.5013\n",
      "3.50217\n",
      "3.496602\n"
     ]
    }
   ],
   "source": [
    "def monte_carlo_dice(n):\n",
    "    total = 0\n",
    "    rolls = 0\n",
    "    while rolls < n:\n",
    "        total += random.randint(1,6)\n",
    "        rolls += 1        \n",
    "    return total/rolls\n",
    "\n",
    "print(monte_carlo_dice(100))\n",
    "print(monte_carlo_dice(1000))\n",
    "print(monte_carlo_dice(10000))\n",
    "print(monte_carlo_dice(100000))\n",
    "print(monte_carlo_dice(500000))"
   ]
  },
  {
   "cell_type": "markdown",
   "metadata": {},
   "source": [
    "# 2: Estimating the Area of a Circle\n",
    "\n",
    "Consider a dartboard with a circle of radius $r$ inscribed in a square with side $2r$. Now let’s say you start throwing a large number of darts at it. \n",
    "\n",
    "Some of these will hit the board within the circle—let’s say, $N$—and others out-side it—let’s say, $M$. If we consider the fraction of darts that land inside the circle:\n",
    "\n",
    "$$f = \\dfrac{N}{N + M}$$\n",
    "\n",
    "Then the value of $f * A$ with $A$ being the area of the square will approximate the actual area of the circle (which is  $\\pi r^2$)\n",
    "\n",
    "<img src=\"Circle Target.png\" style=\"width: 200px;\">\n",
    "\n",
    "Write a function `circle_estimate(radius, trials)` which will estimate the area of a circle by throwing `trials` random darts at the square.\n",
    "\n",
    "\n",
    "\n",
    "```\n",
    "Radius: 2\n",
    "Area: 12.566370614359172, Estimated (1000 darts): 12.576\n",
    "Area: 12.566370614359172, Estimated (100000 darts): 12.58176\n",
    "Area: 12.566370614359172, Estimated (1000000 darts): 12.560128\n",
    "```\n",
    "\n",
    "**Hint:** Generate 2 random numbers for each dart throw, one for the `x` axis and one for the `y` axis. Use the [Pythagorean Theorem](https://en.wikipedia.org/wiki/Pythagorean_theorem) find if it's outside the circle"
   ]
  },
  {
   "cell_type": "code",
   "execution_count": 7,
   "metadata": {
    "scrolled": true
   },
   "outputs": [
    {
     "name": "stdout",
     "output_type": "stream",
     "text": [
      "Radius: 2, Area: 12.566370614359172, Estimated (1000 darts): 12.608\n",
      "Radius: 2, Area: 12.566370614359172, Estimated (100000 darts): 12.5624\n",
      "Radius: 2, Area: 12.566370614359172, Estimated (1000000 darts): 12.55952\n",
      "Radius: 5, Area: 78.53981633974483, Estimated (1000 darts): 79.3\n",
      "Radius: 5, Area: 78.53981633974483, Estimated (100000 darts): 78.778\n",
      "Radius: 5, Area: 78.53981633974483, Estimated (1000000 darts): 78.582\n"
     ]
    }
   ],
   "source": [
    "import math\n",
    "\n",
    "def circle_estimate(radius,trials):\n",
    "    squareArea = (2*radius)**2\n",
    "    circleArea = math.pi * (radius**2)\n",
    "    \n",
    "    # Circle with center at (0,0)\n",
    "    # This will make pythagoras calculation easier\n",
    "    axisStart = -radius\n",
    "    axisEnd = radius\n",
    "    \n",
    "    inside = 0\n",
    "    \n",
    "    for i in range(trials):\n",
    "        xCord = random.uniform(axisStart,axisEnd)\n",
    "        yCord = random.uniform(axisStart,axisEnd)\n",
    "        # Pythagoras Theorem to calculate distance of hit from circle center (0,0)\n",
    "        distance = math.sqrt((xCord-0)**2 + (yCord-0)**2)\n",
    "        \n",
    "        if distance <= radius:\n",
    "            inside += 1\n",
    "\n",
    "\n",
    "    fraction = inside/trials\n",
    "    estArea = fraction * squareArea\n",
    "    return f\"Radius: {radius}, Area: {circleArea}, Estimated ({trials} darts): {estArea}\"\n",
    "    \n",
    "print(circle_estimate(2,1000))\n",
    "print(circle_estimate(2,100000))\n",
    "print(circle_estimate(2,1000000))\n",
    "print(circle_estimate(5,1000))\n",
    "print(circle_estimate(5,100000))\n",
    "print(circle_estimate(5,1000000))"
   ]
  },
  {
   "cell_type": "markdown",
   "metadata": {},
   "source": [
    "# 3: Binomial distribution\n",
    "\n",
    "The [binomial random variable](https://en.wikipedia.org/wiki/Binomial_distribution) $ Y \\sim Bin(n, p) $ represents the number of successes in $ n $ coin flips, where each trial succeeds with probability $ p $.\n",
    "\n",
    "Without any import besides `from numpy.random import uniform`, write a function\n",
    "`binomial_rv` such that `binomial_rv(n, p)` generates one draw of $ Y $.\n",
    "\n",
    "Hint: If $ U $ is uniform on $ (0, 1) $ and $ p \\in (0,1) $, then the expression `U < p` evaluates to `True` with probability $ p $."
   ]
  },
  {
   "cell_type": "code",
   "execution_count": 4,
   "metadata": {},
   "outputs": [
    {
     "name": "stdout",
     "output_type": "stream",
     "text": [
      "52\n"
     ]
    }
   ],
   "source": [
    "from numpy.random import uniform\n",
    "\n",
    "def binomial_rv(n, p):\n",
    "    success = 0\n",
    "    \n",
    "    for i in range(n):\n",
    "        U = uniform(0,1)\n",
    "        if U < p: \n",
    "            success += 1        \n",
    "            \n",
    "    return success\n",
    "\n",
    "# 100 coin flips with equal no of success\n",
    "print(binomial_rv(100, 0.5))"
   ]
  },
  {
   "cell_type": "code",
   "execution_count": null,
   "metadata": {},
   "outputs": [],
   "source": []
  }
 ],
 "metadata": {
  "file_extension": ".py",
  "kernelspec": {
   "display_name": "Python 3",
   "language": "python",
   "name": "python3"
  },
  "language_info": {
   "codemirror_mode": {
    "name": "ipython",
    "version": 3
   },
   "file_extension": ".py",
   "mimetype": "text/x-python",
   "name": "python",
   "nbconvert_exporter": "python",
   "pygments_lexer": "ipython3",
   "version": "3.8.3"
  },
  "mimetype": "text/x-python",
  "name": "python",
  "npconvert_exporter": "python",
  "pygments_lexer": "ipython3",
  "version": 3
 },
 "nbformat": 4,
 "nbformat_minor": 2
}
